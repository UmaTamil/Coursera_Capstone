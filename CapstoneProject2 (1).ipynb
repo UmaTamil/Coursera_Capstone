{
 "cells": [
  {
   "cell_type": "code",
   "execution_count": 52,
   "metadata": {},
   "outputs": [
    {
     "name": "stdout",
     "output_type": "stream",
     "text": [
      "Solving environment: done\n",
      "\n",
      "# All requested packages already installed.\n",
      "\n",
      "Solving environment: done\n",
      "\n",
      "# All requested packages already installed.\n",
      "\n",
      "Solving environment: done\n",
      "\n",
      "# All requested packages already installed.\n",
      "\n",
      "Solving environment: done\n",
      "\n",
      "# All requested packages already installed.\n",
      "\n",
      "Solving environment: done\n",
      "\n",
      "# All requested packages already installed.\n",
      "\n",
      "Solving environment: done\n",
      "\n",
      "# All requested packages already installed.\n",
      "\n",
      "Solving environment: done\n",
      "\n",
      "# All requested packages already installed.\n",
      "\n"
     ]
    }
   ],
   "source": [
    "!conda install -c conda-forge geopy --yes\n",
    "!conda install -c conda-forge folium=0.5.0 --yes # uncomment this line if you haven't completed the Foursquare API lab\n",
    "import folium # map rendering library\n",
    "!conda install -c conda-forge beautifulsoup4 --yes\n",
    "!conda install -c conda-forge lxml --yes\n",
    "!conda install -c conda-forge html5lib --yes\n",
    "!conda install -c conda-forge tabulate --yes\n",
    "!conda install -c conda-forge pdfminer3k --yes\n"
   ]
  },
  {
   "cell_type": "code",
   "execution_count": 53,
   "metadata": {},
   "outputs": [],
   "source": [
    "import numpy as np\n",
    "import pandas as pd\n",
    "import json\n",
    "from geopy.geocoders import Nominatim # convert an address into latitude and longitude values\n",
    "import requests # library to handle requests\n",
    "from pandas.io.json import json_normalize # tranform JSON file into a pandas dataframe\n",
    "# Matplotlib and associated plottin`g modules\n",
    "import matplotlib.cm as cm\n",
    "import matplotlib.colors as colors\n",
    "# import k-means from clustering stage\n",
    "from sklearn.cluster import KMeans\n",
    "import folium # map rendering library\n",
    "from bs4 import BeautifulSoup as bs\n",
    "import lxml\n",
    "import requests\n",
    "from tabulate import tabulate\n",
    "import pandas as pd\n",
    "import numpy as np"
   ]
  },
  {
   "cell_type": "code",
   "execution_count": 54,
   "metadata": {},
   "outputs": [
    {
     "name": "stderr",
     "output_type": "stream",
     "text": [
      "/home/jupyterlab/conda/lib/python3.6/site-packages/ipykernel_launcher.py:3: DeprecationWarning: Using Nominatim with the default \"geopy/1.18.1\" `user_agent` is strongly discouraged, as it violates Nominatim's ToS https://operations.osmfoundation.org/policies/nominatim/ and may possibly cause 403 and 429 HTTP errors. Please specify a custom `user_agent` with `Nominatim(user_agent=\"my-application\")` or by overriding the default `user_agent`: `geopy.geocoders.options.default_user_agent = \"my-application\"`. In geopy 2.0 this will become an exception.\n",
      "  This is separate from the ipykernel package so we can avoid doing imports until\n"
     ]
    },
    {
     "name": "stdout",
     "output_type": "stream",
     "text": [
      "The geograpical coordinate of Avadi are 13.1254758, 80.09409.\n"
     ]
    }
   ],
   "source": [
    "address = 'Avadi,CH'\n",
    "\n",
    "geolocator = Nominatim()\n",
    "location = geolocator.geocode(address)\n",
    "latitude = location.latitude\n",
    "longitude = location.longitude\n",
    "print('The geograpical coordinate of Avadi are {}, {}.'.format(latitude, longitude))"
   ]
  },
  {
   "cell_type": "code",
   "execution_count": 55,
   "metadata": {},
   "outputs": [
    {
     "name": "stdout",
     "output_type": "stream",
     "text": [
      "Your credentails:\n",
      "CLIENT_ID: 30EXXJY2HBSDPTTTYZFRPZAILSBAMOO0P4KGLCQWEZ3I1I4I\n",
      "CLIENT_SECRET:ZRKNTYYRQSUX0Q4DDTYBRYYPUMOMD3VVSQYWZT2YELF3SNRX\n"
     ]
    }
   ],
   "source": [
    "CLIENT_ID = '30EXXJY2HBSDPTTTYZFRPZAILSBAMOO0P4KGLCQWEZ3I1I4I' # your Foursquare ID\n",
    "CLIENT_SECRET = 'ZRKNTYYRQSUX0Q4DDTYBRYYPUMOMD3VVSQYWZT2YELF3SNRX' # your Foursquare Secret\n",
    "VERSION = '20180605' # Foursquare API version\n",
    "\n",
    "print('Your credentails:')\n",
    "print('CLIENT_ID: ' + CLIENT_ID)\n",
    "print('CLIENT_SECRET:' + CLIENT_SECRET)"
   ]
  },
  {
   "cell_type": "code",
   "execution_count": 56,
   "metadata": {},
   "outputs": [
    {
     "data": {
      "text/plain": [
       "'https://api.foursquare.com/v2/venues/explore?&client_id=30EXXJY2HBSDPTTTYZFRPZAILSBAMOO0P4KGLCQWEZ3I1I4I&client_secret=ZRKNTYYRQSUX0Q4DDTYBRYYPUMOMD3VVSQYWZT2YELF3SNRX&v=20180605&ll=13.1254758,80.09409&radius=40000&limit=200&query=Restaurant'"
      ]
     },
     "execution_count": 56,
     "metadata": {},
     "output_type": "execute_result"
    }
   ],
   "source": [
    "neighborhood_latitude = latitude # neighborhood latitude value\n",
    "neighborhood_longitude = longitude # neighborhood longitude value\n",
    "\n",
    "LIMIT = 200\n",
    "radius = 40000\n",
    "url = 'https://api.foursquare.com/v2/venues/explore?&client_id={}&client_secret={}&v={}&ll={},{}&radius={}&limit={}&query=Restaurant'.format(\n",
    "    CLIENT_ID, \n",
    "    CLIENT_SECRET, \n",
    "    VERSION, \n",
    "    neighborhood_latitude, \n",
    "    neighborhood_longitude, \n",
    "    radius, \n",
    "    LIMIT)\n",
    "url"
   ]
  },
  {
   "cell_type": "code",
   "execution_count": 57,
   "metadata": {},
   "outputs": [],
   "source": [
    "results = requests.get(url).json()"
   ]
  },
  {
   "cell_type": "code",
   "execution_count": 58,
   "metadata": {},
   "outputs": [],
   "source": [
    "def get_category_type(row):\n",
    "    try:\n",
    "        categories_list = row['categories']\n",
    "    except:\n",
    "        categories_list = row['venue.categories']\n",
    "        \n",
    "    if len(categories_list) == 0:\n",
    "        return None\n",
    "    else:\n",
    "        return categories_list[0]['name']"
   ]
  },
  {
   "cell_type": "code",
   "execution_count": 59,
   "metadata": {},
   "outputs": [],
   "source": [
    "venues = results['response']['groups'][0]['items']\n",
    "    \n",
    "nearby_venues = json_normalize(venues) # flatten JSON\n",
    "\n",
    "# filter columns\n",
    "filtered_columns = ['venue.name', 'venue.categories', 'venue.location.lat', 'venue.location.lng']\n",
    "nearby_venues =nearby_venues.loc[:, filtered_columns]\n",
    "\n",
    "# filter the category for each row\n",
    "nearby_venues['venue.categories'] = nearby_venues.apply(get_category_type, axis=1)\n",
    "\n",
    "# clean columns\n",
    "nearby_venues.columns = [col.split(\".\")[-1] for col in nearby_venues.columns]\n",
    "\n"
   ]
  },
  {
   "cell_type": "code",
   "execution_count": 60,
   "metadata": {},
   "outputs": [
    {
     "data": {
      "text/html": [
       "<div>\n",
       "<style scoped>\n",
       "    .dataframe tbody tr th:only-of-type {\n",
       "        vertical-align: middle;\n",
       "    }\n",
       "\n",
       "    .dataframe tbody tr th {\n",
       "        vertical-align: top;\n",
       "    }\n",
       "\n",
       "    .dataframe thead th {\n",
       "        text-align: right;\n",
       "    }\n",
       "</style>\n",
       "<table border=\"1\" class=\"dataframe\">\n",
       "  <thead>\n",
       "    <tr style=\"text-align: right;\">\n",
       "      <th></th>\n",
       "      <th>name</th>\n",
       "      <th>categories</th>\n",
       "      <th>lat</th>\n",
       "      <th>lng</th>\n",
       "    </tr>\n",
       "  </thead>\n",
       "  <tbody>\n",
       "    <tr>\n",
       "      <th>0</th>\n",
       "      <td>Subway</td>\n",
       "      <td>Sandwich Place</td>\n",
       "      <td>13.082455</td>\n",
       "      <td>80.210927</td>\n",
       "    </tr>\n",
       "    <tr>\n",
       "      <th>1</th>\n",
       "      <td>Cream Centre</td>\n",
       "      <td>Vegetarian / Vegan Restaurant</td>\n",
       "      <td>13.090306</td>\n",
       "      <td>80.216317</td>\n",
       "    </tr>\n",
       "    <tr>\n",
       "      <th>2</th>\n",
       "      <td>Shree Mithai</td>\n",
       "      <td>Indian Restaurant</td>\n",
       "      <td>13.072118</td>\n",
       "      <td>80.247865</td>\n",
       "    </tr>\n",
       "    <tr>\n",
       "      <th>3</th>\n",
       "      <td>Sangeetha Drive-in Restaurant</td>\n",
       "      <td>South Indian Restaurant</td>\n",
       "      <td>13.045672</td>\n",
       "      <td>80.068746</td>\n",
       "    </tr>\n",
       "    <tr>\n",
       "      <th>4</th>\n",
       "      <td>Barbeque Nation</td>\n",
       "      <td>BBQ Joint</td>\n",
       "      <td>13.052680</td>\n",
       "      <td>80.212550</td>\n",
       "    </tr>\n",
       "    <tr>\n",
       "      <th>5</th>\n",
       "      <td>Murugan Idly Shop</td>\n",
       "      <td>South Indian Restaurant</td>\n",
       "      <td>13.082277</td>\n",
       "      <td>80.214331</td>\n",
       "    </tr>\n",
       "    <tr>\n",
       "      <th>6</th>\n",
       "      <td>Ottimo Cucina Italiana, ITC Grand Chola</td>\n",
       "      <td>Italian Restaurant</td>\n",
       "      <td>13.010444</td>\n",
       "      <td>80.220938</td>\n",
       "    </tr>\n",
       "    <tr>\n",
       "      <th>7</th>\n",
       "      <td>Coco Jaunt</td>\n",
       "      <td>Café</td>\n",
       "      <td>13.090318</td>\n",
       "      <td>80.217500</td>\n",
       "    </tr>\n",
       "    <tr>\n",
       "      <th>8</th>\n",
       "      <td>Bombay Chat</td>\n",
       "      <td>Fast Food Restaurant</td>\n",
       "      <td>13.040300</td>\n",
       "      <td>80.193134</td>\n",
       "    </tr>\n",
       "    <tr>\n",
       "      <th>9</th>\n",
       "      <td>Kabab Corner</td>\n",
       "      <td>Diner</td>\n",
       "      <td>13.060163</td>\n",
       "      <td>80.254485</td>\n",
       "    </tr>\n",
       "    <tr>\n",
       "      <th>10</th>\n",
       "      <td>Peshawri</td>\n",
       "      <td>Indian Restaurant</td>\n",
       "      <td>13.010536</td>\n",
       "      <td>80.220252</td>\n",
       "    </tr>\n",
       "    <tr>\n",
       "      <th>11</th>\n",
       "      <td>Links</td>\n",
       "      <td>Snack Place</td>\n",
       "      <td>13.079986</td>\n",
       "      <td>80.254605</td>\n",
       "    </tr>\n",
       "    <tr>\n",
       "      <th>12</th>\n",
       "      <td>Subway</td>\n",
       "      <td>Sandwich Place</td>\n",
       "      <td>13.061403</td>\n",
       "      <td>80.248521</td>\n",
       "    </tr>\n",
       "    <tr>\n",
       "      <th>13</th>\n",
       "      <td>The Flying Elephant</td>\n",
       "      <td>Restaurant</td>\n",
       "      <td>13.010472</td>\n",
       "      <td>80.223536</td>\n",
       "    </tr>\n",
       "    <tr>\n",
       "      <th>14</th>\n",
       "      <td>Shankar Chat Bhandar</td>\n",
       "      <td>Snack Place</td>\n",
       "      <td>13.086593</td>\n",
       "      <td>80.210253</td>\n",
       "    </tr>\n",
       "    <tr>\n",
       "      <th>15</th>\n",
       "      <td>Basil - With a Twist</td>\n",
       "      <td>Modern European Restaurant</td>\n",
       "      <td>13.049632</td>\n",
       "      <td>80.242210</td>\n",
       "    </tr>\n",
       "    <tr>\n",
       "      <th>16</th>\n",
       "      <td>Pantry D'Or</td>\n",
       "      <td>Café</td>\n",
       "      <td>13.092122</td>\n",
       "      <td>80.218893</td>\n",
       "    </tr>\n",
       "    <tr>\n",
       "      <th>17</th>\n",
       "      <td>Chamiers Cafe</td>\n",
       "      <td>Café</td>\n",
       "      <td>13.028241</td>\n",
       "      <td>80.250240</td>\n",
       "    </tr>\n",
       "    <tr>\n",
       "      <th>18</th>\n",
       "      <td>Subway</td>\n",
       "      <td>Sandwich Place</td>\n",
       "      <td>13.054787</td>\n",
       "      <td>80.249618</td>\n",
       "    </tr>\n",
       "    <tr>\n",
       "      <th>19</th>\n",
       "      <td>Barbeque Nation</td>\n",
       "      <td>BBQ Joint</td>\n",
       "      <td>13.045409</td>\n",
       "      <td>80.233146</td>\n",
       "    </tr>\n",
       "    <tr>\n",
       "      <th>20</th>\n",
       "      <td>Al Maza</td>\n",
       "      <td>Indian Restaurant</td>\n",
       "      <td>13.083808</td>\n",
       "      <td>80.220507</td>\n",
       "    </tr>\n",
       "    <tr>\n",
       "      <th>21</th>\n",
       "      <td>Bombay Brassiere</td>\n",
       "      <td>North Indian Restaurant</td>\n",
       "      <td>13.006961</td>\n",
       "      <td>80.256419</td>\n",
       "    </tr>\n",
       "    <tr>\n",
       "      <th>22</th>\n",
       "      <td>Pan Asian</td>\n",
       "      <td>Asian Restaurant</td>\n",
       "      <td>13.010991</td>\n",
       "      <td>80.220408</td>\n",
       "    </tr>\n",
       "    <tr>\n",
       "      <th>23</th>\n",
       "      <td>The Marina</td>\n",
       "      <td>Seafood Restaurant</td>\n",
       "      <td>13.067311</td>\n",
       "      <td>80.252117</td>\n",
       "    </tr>\n",
       "    <tr>\n",
       "      <th>24</th>\n",
       "      <td>Dynasty</td>\n",
       "      <td>Chinese Restaurant</td>\n",
       "      <td>13.066880</td>\n",
       "      <td>80.243102</td>\n",
       "    </tr>\n",
       "    <tr>\n",
       "      <th>25</th>\n",
       "      <td>Q Bar</td>\n",
       "      <td>Restaurant</td>\n",
       "      <td>13.016606</td>\n",
       "      <td>80.204853</td>\n",
       "    </tr>\n",
       "    <tr>\n",
       "      <th>26</th>\n",
       "      <td>Little Italy Ristorante</td>\n",
       "      <td>Italian Restaurant</td>\n",
       "      <td>13.060934</td>\n",
       "      <td>80.247235</td>\n",
       "    </tr>\n",
       "    <tr>\n",
       "      <th>27</th>\n",
       "      <td>Sangeetha Fine Dining</td>\n",
       "      <td>Vegetarian / Vegan Restaurant</td>\n",
       "      <td>13.043188</td>\n",
       "      <td>80.236601</td>\n",
       "    </tr>\n",
       "    <tr>\n",
       "      <th>28</th>\n",
       "      <td>Tuscana Pizzeria</td>\n",
       "      <td>Italian Restaurant</td>\n",
       "      <td>13.061524</td>\n",
       "      <td>80.249806</td>\n",
       "    </tr>\n",
       "    <tr>\n",
       "      <th>29</th>\n",
       "      <td>Wangs Kitchen</td>\n",
       "      <td>Chinese Restaurant</td>\n",
       "      <td>13.044541</td>\n",
       "      <td>80.217978</td>\n",
       "    </tr>\n",
       "    <tr>\n",
       "      <th>30</th>\n",
       "      <td>Madras Pavilion</td>\n",
       "      <td>Indian Restaurant</td>\n",
       "      <td>13.011117</td>\n",
       "      <td>80.220419</td>\n",
       "    </tr>\n",
       "    <tr>\n",
       "      <th>31</th>\n",
       "      <td>Stix</td>\n",
       "      <td>Chinese Restaurant</td>\n",
       "      <td>13.042898</td>\n",
       "      <td>80.248640</td>\n",
       "    </tr>\n",
       "    <tr>\n",
       "      <th>32</th>\n",
       "      <td>Savoury Sea Shell</td>\n",
       "      <td>Restaurant</td>\n",
       "      <td>13.087539</td>\n",
       "      <td>80.218176</td>\n",
       "    </tr>\n",
       "    <tr>\n",
       "      <th>33</th>\n",
       "      <td>Amethyst</td>\n",
       "      <td>Café</td>\n",
       "      <td>13.057337</td>\n",
       "      <td>80.259444</td>\n",
       "    </tr>\n",
       "    <tr>\n",
       "      <th>34</th>\n",
       "      <td>Hotel Crescent</td>\n",
       "      <td>Multicuisine Indian Restaurant</td>\n",
       "      <td>13.064424</td>\n",
       "      <td>80.243435</td>\n",
       "    </tr>\n",
       "    <tr>\n",
       "      <th>35</th>\n",
       "      <td>The Brew Room</td>\n",
       "      <td>Café</td>\n",
       "      <td>13.045473</td>\n",
       "      <td>80.260960</td>\n",
       "    </tr>\n",
       "    <tr>\n",
       "      <th>36</th>\n",
       "      <td>Fu Silli Reasons</td>\n",
       "      <td>Italian Restaurant</td>\n",
       "      <td>13.081989</td>\n",
       "      <td>80.248510</td>\n",
       "    </tr>\n",
       "    <tr>\n",
       "      <th>37</th>\n",
       "      <td>Tuscanna At Chamiers</td>\n",
       "      <td>Italian Restaurant</td>\n",
       "      <td>13.029151</td>\n",
       "      <td>80.248289</td>\n",
       "    </tr>\n",
       "    <tr>\n",
       "      <th>38</th>\n",
       "      <td>Mamagoto</td>\n",
       "      <td>Japanese Curry Restaurant</td>\n",
       "      <td>13.060800</td>\n",
       "      <td>80.250742</td>\n",
       "    </tr>\n",
       "    <tr>\n",
       "      <th>39</th>\n",
       "      <td>Murugan Idli Shop</td>\n",
       "      <td>Indian Restaurant</td>\n",
       "      <td>13.042487</td>\n",
       "      <td>80.235457</td>\n",
       "    </tr>\n",
       "    <tr>\n",
       "      <th>40</th>\n",
       "      <td>Bismi Biryani</td>\n",
       "      <td>Indian Restaurant</td>\n",
       "      <td>13.061664</td>\n",
       "      <td>80.243130</td>\n",
       "    </tr>\n",
       "    <tr>\n",
       "      <th>41</th>\n",
       "      <td>Murugan Idli Shop</td>\n",
       "      <td>Indian Restaurant</td>\n",
       "      <td>13.048336</td>\n",
       "      <td>80.205013</td>\n",
       "    </tr>\n",
       "    <tr>\n",
       "      <th>42</th>\n",
       "      <td>Absolute Barbeques</td>\n",
       "      <td>BBQ Joint</td>\n",
       "      <td>13.045317</td>\n",
       "      <td>80.241197</td>\n",
       "    </tr>\n",
       "    <tr>\n",
       "      <th>43</th>\n",
       "      <td>Zaitoon</td>\n",
       "      <td>Middle Eastern Restaurant</td>\n",
       "      <td>13.083468</td>\n",
       "      <td>80.225464</td>\n",
       "    </tr>\n",
       "    <tr>\n",
       "      <th>44</th>\n",
       "      <td>Sri Krishna Sweets</td>\n",
       "      <td>Snack Place</td>\n",
       "      <td>12.989584</td>\n",
       "      <td>80.218610</td>\n",
       "    </tr>\n",
       "    <tr>\n",
       "      <th>45</th>\n",
       "      <td>Dahlia</td>\n",
       "      <td>Japanese Restaurant</td>\n",
       "      <td>13.062418</td>\n",
       "      <td>80.245288</td>\n",
       "    </tr>\n",
       "    <tr>\n",
       "      <th>46</th>\n",
       "      <td>Nicky's Cafe &amp; Fine Pastries</td>\n",
       "      <td>Café</td>\n",
       "      <td>13.063877</td>\n",
       "      <td>80.259806</td>\n",
       "    </tr>\n",
       "    <tr>\n",
       "      <th>47</th>\n",
       "      <td>Krispy Kreme Doughnuts</td>\n",
       "      <td>Donut Shop</td>\n",
       "      <td>13.059019</td>\n",
       "      <td>80.264051</td>\n",
       "    </tr>\n",
       "    <tr>\n",
       "      <th>48</th>\n",
       "      <td>The Old Madras Baking Company</td>\n",
       "      <td>Bakery</td>\n",
       "      <td>13.032961</td>\n",
       "      <td>80.252821</td>\n",
       "    </tr>\n",
       "    <tr>\n",
       "      <th>49</th>\n",
       "      <td>Winners Bakery</td>\n",
       "      <td>Bakery</td>\n",
       "      <td>13.034742</td>\n",
       "      <td>80.257085</td>\n",
       "    </tr>\n",
       "  </tbody>\n",
       "</table>\n",
       "</div>"
      ],
      "text/plain": [
       "                                       name                      categories  \\\n",
       "0                                    Subway                  Sandwich Place   \n",
       "1                              Cream Centre   Vegetarian / Vegan Restaurant   \n",
       "2                              Shree Mithai               Indian Restaurant   \n",
       "3             Sangeetha Drive-in Restaurant         South Indian Restaurant   \n",
       "4                           Barbeque Nation                       BBQ Joint   \n",
       "5                         Murugan Idly Shop         South Indian Restaurant   \n",
       "6   Ottimo Cucina Italiana, ITC Grand Chola              Italian Restaurant   \n",
       "7                                Coco Jaunt                            Café   \n",
       "8                               Bombay Chat            Fast Food Restaurant   \n",
       "9                              Kabab Corner                           Diner   \n",
       "10                                 Peshawri               Indian Restaurant   \n",
       "11                                    Links                     Snack Place   \n",
       "12                                   Subway                  Sandwich Place   \n",
       "13                      The Flying Elephant                      Restaurant   \n",
       "14                     Shankar Chat Bhandar                     Snack Place   \n",
       "15                     Basil - With a Twist      Modern European Restaurant   \n",
       "16                              Pantry D'Or                            Café   \n",
       "17                            Chamiers Cafe                            Café   \n",
       "18                                   Subway                  Sandwich Place   \n",
       "19                          Barbeque Nation                       BBQ Joint   \n",
       "20                                  Al Maza               Indian Restaurant   \n",
       "21                         Bombay Brassiere         North Indian Restaurant   \n",
       "22                                Pan Asian                Asian Restaurant   \n",
       "23                               The Marina              Seafood Restaurant   \n",
       "24                                  Dynasty              Chinese Restaurant   \n",
       "25                                    Q Bar                      Restaurant   \n",
       "26                  Little Italy Ristorante              Italian Restaurant   \n",
       "27                    Sangeetha Fine Dining   Vegetarian / Vegan Restaurant   \n",
       "28                         Tuscana Pizzeria              Italian Restaurant   \n",
       "29                            Wangs Kitchen              Chinese Restaurant   \n",
       "30                          Madras Pavilion               Indian Restaurant   \n",
       "31                                     Stix              Chinese Restaurant   \n",
       "32                        Savoury Sea Shell                      Restaurant   \n",
       "33                                 Amethyst                            Café   \n",
       "34                           Hotel Crescent  Multicuisine Indian Restaurant   \n",
       "35                            The Brew Room                            Café   \n",
       "36                         Fu Silli Reasons              Italian Restaurant   \n",
       "37                     Tuscanna At Chamiers              Italian Restaurant   \n",
       "38                                 Mamagoto       Japanese Curry Restaurant   \n",
       "39                        Murugan Idli Shop               Indian Restaurant   \n",
       "40                            Bismi Biryani               Indian Restaurant   \n",
       "41                        Murugan Idli Shop               Indian Restaurant   \n",
       "42                       Absolute Barbeques                       BBQ Joint   \n",
       "43                                  Zaitoon       Middle Eastern Restaurant   \n",
       "44                       Sri Krishna Sweets                     Snack Place   \n",
       "45                                   Dahlia             Japanese Restaurant   \n",
       "46             Nicky's Cafe & Fine Pastries                            Café   \n",
       "47                   Krispy Kreme Doughnuts                      Donut Shop   \n",
       "48            The Old Madras Baking Company                          Bakery   \n",
       "49                           Winners Bakery                          Bakery   \n",
       "\n",
       "          lat        lng  \n",
       "0   13.082455  80.210927  \n",
       "1   13.090306  80.216317  \n",
       "2   13.072118  80.247865  \n",
       "3   13.045672  80.068746  \n",
       "4   13.052680  80.212550  \n",
       "5   13.082277  80.214331  \n",
       "6   13.010444  80.220938  \n",
       "7   13.090318  80.217500  \n",
       "8   13.040300  80.193134  \n",
       "9   13.060163  80.254485  \n",
       "10  13.010536  80.220252  \n",
       "11  13.079986  80.254605  \n",
       "12  13.061403  80.248521  \n",
       "13  13.010472  80.223536  \n",
       "14  13.086593  80.210253  \n",
       "15  13.049632  80.242210  \n",
       "16  13.092122  80.218893  \n",
       "17  13.028241  80.250240  \n",
       "18  13.054787  80.249618  \n",
       "19  13.045409  80.233146  \n",
       "20  13.083808  80.220507  \n",
       "21  13.006961  80.256419  \n",
       "22  13.010991  80.220408  \n",
       "23  13.067311  80.252117  \n",
       "24  13.066880  80.243102  \n",
       "25  13.016606  80.204853  \n",
       "26  13.060934  80.247235  \n",
       "27  13.043188  80.236601  \n",
       "28  13.061524  80.249806  \n",
       "29  13.044541  80.217978  \n",
       "30  13.011117  80.220419  \n",
       "31  13.042898  80.248640  \n",
       "32  13.087539  80.218176  \n",
       "33  13.057337  80.259444  \n",
       "34  13.064424  80.243435  \n",
       "35  13.045473  80.260960  \n",
       "36  13.081989  80.248510  \n",
       "37  13.029151  80.248289  \n",
       "38  13.060800  80.250742  \n",
       "39  13.042487  80.235457  \n",
       "40  13.061664  80.243130  \n",
       "41  13.048336  80.205013  \n",
       "42  13.045317  80.241197  \n",
       "43  13.083468  80.225464  \n",
       "44  12.989584  80.218610  \n",
       "45  13.062418  80.245288  \n",
       "46  13.063877  80.259806  \n",
       "47  13.059019  80.264051  \n",
       "48  13.032961  80.252821  \n",
       "49  13.034742  80.257085  "
      ]
     },
     "execution_count": 60,
     "metadata": {},
     "output_type": "execute_result"
    }
   ],
   "source": [
    "Tiruvallur_Food_Chain=nearby_venues\n",
    "Tiruvallur_Food_Chain.head(50)"
   ]
  },
  {
   "cell_type": "code",
   "execution_count": 61,
   "metadata": {},
   "outputs": [],
   "source": [
    "page_link='http://www.shreyasbharadwaj.com/my-life/indian-names-for-food-products'\n",
    "ing_pulse=requests.get(page_link)#hint: requests.get()\n",
    "page=ing_pulse.text"
   ]
  },
  {
   "cell_type": "code",
   "execution_count": 62,
   "metadata": {},
   "outputs": [],
   "source": [
    "soup=bs(page,'lxml')"
   ]
  },
  {
   "cell_type": "code",
   "execution_count": 19,
   "metadata": {},
   "outputs": [],
   "source": [
    "#print(soup.prettify())"
   ]
  },
  {
   "cell_type": "code",
   "execution_count": 63,
   "metadata": {},
   "outputs": [],
   "source": [
    "table=soup.find('tbody')\n",
    "tds=table.find_all('td')    "
   ]
  },
  {
   "cell_type": "code",
   "execution_count": 64,
   "metadata": {},
   "outputs": [],
   "source": [
    "L=len(tds)\n",
    "t_pulses=[]\n",
    "for i in range(1,L,3):\n",
    "    t_pulses.append(tds[i].text)\n",
    "    t_pulses[-1] = t_pulses[-1].strip()"
   ]
  },
  {
   "cell_type": "code",
   "execution_count": 20,
   "metadata": {},
   "outputs": [
    {
     "name": "stdout",
     "output_type": "stream",
     "text": [
      "['Pigeon pea / Red gram', 'Chickpeas (Brown)', 'Chickpeas (Green)', 'Split Bengal gram', 'Black-eyed beans / Cowpea', 'Pulses / Split beans / Beans', 'Broken wheat', 'Garbanzo beans / Chickpeas (White)', 'Horse gram', 'Puffed rice', 'Red lentils', 'Pea', 'Green gram / Mung bean', 'Turkish gram / Moth bean', 'Beaten rice', 'Kidney beans', 'Sesame', 'Black gram / Black lentil (whole) / White lentil (dehusked)', 'Field beans']\n"
     ]
    }
   ],
   "source": [
    "print(t_pulses)\n"
   ]
  },
  {
   "cell_type": "code",
   "execution_count": 65,
   "metadata": {},
   "outputs": [],
   "source": [
    "table1 = soup.find_all('table')[1]\n",
    "tds1=table1.find_all('td') "
   ]
  },
  {
   "cell_type": "code",
   "execution_count": 66,
   "metadata": {},
   "outputs": [],
   "source": [
    "L1=len(tds1)\n",
    "t_cereals=[]\n",
    "for i in range(1,L1,3):\n",
    "    t_cereals.append(tds1[i].text)\n",
    "    t_cereals[-1] = t_cereals[-1].strip()"
   ]
  },
  {
   "cell_type": "code",
   "execution_count": 23,
   "metadata": {},
   "outputs": [
    {
     "name": "stdout",
     "output_type": "stream",
     "text": [
      "['Pearl millet', 'Rice', 'Wheat', 'Barley', 'Sorghum bicolor', 'Maize, Corn', 'Finger millet']\n"
     ]
    }
   ],
   "source": [
    "print(t_cereals)"
   ]
  },
  {
   "cell_type": "code",
   "execution_count": 67,
   "metadata": {},
   "outputs": [],
   "source": [
    "table2 = soup.find_all('table')[2]\n",
    "tds2=table2.find_all('td') "
   ]
  },
  {
   "cell_type": "code",
   "execution_count": 68,
   "metadata": {},
   "outputs": [],
   "source": [
    "L2=len(tds2)\n",
    "t_spices=[]\n",
    "for i in range(1,L2,3):\n",
    "    t_spices.append(tds2[i].text)\n",
    "    t_spices[-1] = t_spices[-1].strip()"
   ]
  },
  {
   "cell_type": "code",
   "execution_count": 20,
   "metadata": {},
   "outputs": [
    {
     "name": "stdout",
     "output_type": "stream",
     "text": [
      "['Ginger', 'Carom Seeds / Thyme', 'Star Anise', 'Cinnamon', 'Green Cardamom', 'Brown Cardamom', 'Asafoetida', 'Nutmeg', 'Mace', 'Cumin', 'Black Pepper', 'Garlic', 'Clove', 'Mustard seeds (small)', 'Mustard seeds (big)', 'Bay leaf']\n"
     ]
    }
   ],
   "source": [
    "print(t_spices)"
   ]
  },
  {
   "cell_type": "code",
   "execution_count": 69,
   "metadata": {},
   "outputs": [],
   "source": [
    "table3 = soup.find_all('table')[3]\n",
    "tds3=table3.find_all('td') \n",
    "L3=len(tds3)\n",
    "t_seeds=[]\n",
    "for i in range(1,L3,3):\n",
    "    t_seeds.append(tds3[i].text)\n",
    "    t_seeds[-1] = t_seeds[-1].strip()"
   ]
  },
  {
   "cell_type": "code",
   "execution_count": 27,
   "metadata": {},
   "outputs": [
    {
     "name": "stdout",
     "output_type": "stream",
     "text": [
      "['Anise / Aniseed', 'Refined flour', 'Semolina', 'Sago', 'Fennel Seed']\n"
     ]
    }
   ],
   "source": [
    "print(t_seeds)"
   ]
  },
  {
   "cell_type": "code",
   "execution_count": 70,
   "metadata": {},
   "outputs": [
    {
     "name": "stdout",
     "output_type": "stream",
     "text": [
      "19 7 5 16\n"
     ]
    }
   ],
   "source": [
    "lp=len(t_pulses)\n",
    "lc=len(t_cereals)\n",
    "ls=len(t_seeds)\n",
    "lsp=len(t_spices)\n",
    "print(lp,lc,ls,lsp)"
   ]
  },
  {
   "cell_type": "code",
   "execution_count": 71,
   "metadata": {},
   "outputs": [
    {
     "name": "stdout",
     "output_type": "stream",
     "text": [
      "19\n"
     ]
    }
   ],
   "source": [
    "t_spices.append('Coriander ')\n",
    "t_spices.append('Turmeric')\n",
    "t_spices.append('Fenugreek')\n",
    "lk=len(t_spices)\n",
    "print(lk)"
   ]
  },
  {
   "cell_type": "code",
   "execution_count": 32,
   "metadata": {},
   "outputs": [
    {
     "name": "stdout",
     "output_type": "stream",
     "text": [
      "['Pearl millet', 'Rice', 'Wheat', 'Barley', 'Sorghum bicolor', 'Maize, Corn', 'Finger millet']\n"
     ]
    }
   ],
   "source": [
    "print(t_cereals)"
   ]
  },
  {
   "cell_type": "code",
   "execution_count": 72,
   "metadata": {},
   "outputs": [],
   "source": [
    "t_cereals.append('foxtail millet')\n",
    "t_cereals.append('rye')\n",
    "t_cereals.append('barnyard millet')\n",
    "t_cereals.append('kodo millet')\n",
    "t_cereals.append('oats')\n",
    "t_cereals.append('amaranth')\n",
    "t_cereals.append('BuckWheat')\n",
    "t_cereals.append('Rice Flakes')\n",
    "t_cereals.append('Flaked rice')\n",
    "t_cereals.append('little millet')\n",
    "t_cereals.append('Vermicelli')\n",
    "\n",
    "\n"
   ]
  },
  {
   "cell_type": "code",
   "execution_count": 73,
   "metadata": {},
   "outputs": [
    {
     "name": "stdout",
     "output_type": "stream",
     "text": [
      "19\n"
     ]
    }
   ],
   "source": [
    "t_cereals.append('Raw Rice')\n",
    "print(len(t_cereals))"
   ]
  },
  {
   "cell_type": "code",
   "execution_count": 35,
   "metadata": {},
   "outputs": [
    {
     "name": "stdout",
     "output_type": "stream",
     "text": [
      "5\n"
     ]
    }
   ],
   "source": [
    "print(len(t_seeds))"
   ]
  },
  {
   "cell_type": "code",
   "execution_count": 74,
   "metadata": {},
   "outputs": [],
   "source": [
    "t_seeds.append('palmJaggery')\n",
    "t_seeds.append('Chillies')\n",
    "t_seeds.append('RiceFlour')\n",
    "t_seeds.append('CornFlour')\n",
    "t_seeds.append('Coconut')\n",
    "t_seeds.append('saffron')\n",
    "t_seeds.append('Tamarind')\n",
    "t_seeds.append('Flax')\n",
    "t_seeds.append('Poppy')\n",
    "t_seeds.append('BlackSesame')\n",
    "t_seeds.append('WhiteSesame')\n",
    "t_seeds.append('Almond')\n",
    "t_seeds.append('Cashew')\n",
    "t_seeds.append('Peanut')\n",
    "\n"
   ]
  },
  {
   "cell_type": "code",
   "execution_count": 37,
   "metadata": {},
   "outputs": [
    {
     "name": "stdout",
     "output_type": "stream",
     "text": [
      "19\n"
     ]
    }
   ],
   "source": [
    "print(len(t_seeds))"
   ]
  },
  {
   "cell_type": "code",
   "execution_count": 75,
   "metadata": {},
   "outputs": [],
   "source": [
    "tbl={}\n",
    "tbl={'Pulses':t_pulses,'Cereals':t_cereals,'Spices':t_spices,'Seeds/Nuts':t_seeds}"
   ]
  },
  {
   "cell_type": "code",
   "execution_count": 76,
   "metadata": {},
   "outputs": [
    {
     "data": {
      "text/html": [
       "<div>\n",
       "<style scoped>\n",
       "    .dataframe tbody tr th:only-of-type {\n",
       "        vertical-align: middle;\n",
       "    }\n",
       "\n",
       "    .dataframe tbody tr th {\n",
       "        vertical-align: top;\n",
       "    }\n",
       "\n",
       "    .dataframe thead th {\n",
       "        text-align: right;\n",
       "    }\n",
       "</style>\n",
       "<table border=\"1\" class=\"dataframe\">\n",
       "  <thead>\n",
       "    <tr style=\"text-align: right;\">\n",
       "      <th></th>\n",
       "      <th>Pulses</th>\n",
       "      <th>Cereals</th>\n",
       "      <th>Spices</th>\n",
       "      <th>Seeds/Nuts</th>\n",
       "    </tr>\n",
       "  </thead>\n",
       "  <tbody>\n",
       "    <tr>\n",
       "      <th>0</th>\n",
       "      <td>Pigeon pea / Red gram</td>\n",
       "      <td>Pearl millet</td>\n",
       "      <td>Ginger</td>\n",
       "      <td>Anise / Aniseed</td>\n",
       "    </tr>\n",
       "    <tr>\n",
       "      <th>1</th>\n",
       "      <td>Chickpeas (Brown)</td>\n",
       "      <td>Rice</td>\n",
       "      <td>Carom Seeds / Thyme</td>\n",
       "      <td>Refined flour</td>\n",
       "    </tr>\n",
       "    <tr>\n",
       "      <th>2</th>\n",
       "      <td>Chickpeas (Green)</td>\n",
       "      <td>Wheat</td>\n",
       "      <td>Star Anise</td>\n",
       "      <td>Semolina</td>\n",
       "    </tr>\n",
       "    <tr>\n",
       "      <th>3</th>\n",
       "      <td>Split Bengal gram</td>\n",
       "      <td>Barley</td>\n",
       "      <td>Cinnamon</td>\n",
       "      <td>Sago</td>\n",
       "    </tr>\n",
       "    <tr>\n",
       "      <th>4</th>\n",
       "      <td>Black-eyed beans / Cowpea</td>\n",
       "      <td>Sorghum bicolor</td>\n",
       "      <td>Green Cardamom</td>\n",
       "      <td>Fennel Seed</td>\n",
       "    </tr>\n",
       "    <tr>\n",
       "      <th>5</th>\n",
       "      <td>Pulses / Split beans / Beans</td>\n",
       "      <td>Maize, Corn</td>\n",
       "      <td>Brown Cardamom</td>\n",
       "      <td>palmJaggery</td>\n",
       "    </tr>\n",
       "    <tr>\n",
       "      <th>6</th>\n",
       "      <td>Broken wheat</td>\n",
       "      <td>Finger millet</td>\n",
       "      <td>Asafoetida</td>\n",
       "      <td>Chillies</td>\n",
       "    </tr>\n",
       "    <tr>\n",
       "      <th>7</th>\n",
       "      <td>Garbanzo beans / Chickpeas (White)</td>\n",
       "      <td>foxtail millet</td>\n",
       "      <td>Nutmeg</td>\n",
       "      <td>RiceFlour</td>\n",
       "    </tr>\n",
       "    <tr>\n",
       "      <th>8</th>\n",
       "      <td>Horse gram</td>\n",
       "      <td>rye</td>\n",
       "      <td>Mace</td>\n",
       "      <td>CornFlour</td>\n",
       "    </tr>\n",
       "    <tr>\n",
       "      <th>9</th>\n",
       "      <td>Puffed rice</td>\n",
       "      <td>barnyard millet</td>\n",
       "      <td>Cumin</td>\n",
       "      <td>Coconut</td>\n",
       "    </tr>\n",
       "    <tr>\n",
       "      <th>10</th>\n",
       "      <td>Red lentils</td>\n",
       "      <td>kodo millet</td>\n",
       "      <td>Black Pepper</td>\n",
       "      <td>saffron</td>\n",
       "    </tr>\n",
       "    <tr>\n",
       "      <th>11</th>\n",
       "      <td>Pea</td>\n",
       "      <td>oats</td>\n",
       "      <td>Garlic</td>\n",
       "      <td>Tamarind</td>\n",
       "    </tr>\n",
       "    <tr>\n",
       "      <th>12</th>\n",
       "      <td>Green gram / Mung bean</td>\n",
       "      <td>amaranth</td>\n",
       "      <td>Clove</td>\n",
       "      <td>Flax</td>\n",
       "    </tr>\n",
       "    <tr>\n",
       "      <th>13</th>\n",
       "      <td>Turkish gram / Moth bean</td>\n",
       "      <td>BuckWheat</td>\n",
       "      <td>Mustard seeds (small)</td>\n",
       "      <td>Poppy</td>\n",
       "    </tr>\n",
       "    <tr>\n",
       "      <th>14</th>\n",
       "      <td>Beaten rice</td>\n",
       "      <td>Rice Flakes</td>\n",
       "      <td>Mustard seeds (big)</td>\n",
       "      <td>BlackSesame</td>\n",
       "    </tr>\n",
       "    <tr>\n",
       "      <th>15</th>\n",
       "      <td>Kidney beans</td>\n",
       "      <td>Flaked rice</td>\n",
       "      <td>Bay leaf</td>\n",
       "      <td>WhiteSesame</td>\n",
       "    </tr>\n",
       "    <tr>\n",
       "      <th>16</th>\n",
       "      <td>Sesame</td>\n",
       "      <td>little millet</td>\n",
       "      <td>Coriander</td>\n",
       "      <td>Almond</td>\n",
       "    </tr>\n",
       "    <tr>\n",
       "      <th>17</th>\n",
       "      <td>Black gram / Black lentil (whole) / White lent...</td>\n",
       "      <td>Vermicelli</td>\n",
       "      <td>Turmeric</td>\n",
       "      <td>Cashew</td>\n",
       "    </tr>\n",
       "    <tr>\n",
       "      <th>18</th>\n",
       "      <td>Field beans</td>\n",
       "      <td>Raw Rice</td>\n",
       "      <td>Fenugreek</td>\n",
       "      <td>Peanut</td>\n",
       "    </tr>\n",
       "  </tbody>\n",
       "</table>\n",
       "</div>"
      ],
      "text/plain": [
       "                                               Pulses          Cereals  \\\n",
       "0                               Pigeon pea / Red gram     Pearl millet   \n",
       "1                                   Chickpeas (Brown)             Rice   \n",
       "2                                   Chickpeas (Green)            Wheat   \n",
       "3                                   Split Bengal gram           Barley   \n",
       "4                           Black-eyed beans / Cowpea  Sorghum bicolor   \n",
       "5                        Pulses / Split beans / Beans      Maize, Corn   \n",
       "6                                        Broken wheat    Finger millet   \n",
       "7                  Garbanzo beans / Chickpeas (White)   foxtail millet   \n",
       "8                                          Horse gram              rye   \n",
       "9                                         Puffed rice  barnyard millet   \n",
       "10                                        Red lentils      kodo millet   \n",
       "11                                                Pea             oats   \n",
       "12                             Green gram / Mung bean         amaranth   \n",
       "13                           Turkish gram / Moth bean        BuckWheat   \n",
       "14                                        Beaten rice      Rice Flakes   \n",
       "15                                       Kidney beans      Flaked rice   \n",
       "16                                             Sesame    little millet   \n",
       "17  Black gram / Black lentil (whole) / White lent...       Vermicelli   \n",
       "18                                        Field beans         Raw Rice   \n",
       "\n",
       "                   Spices       Seeds/Nuts  \n",
       "0                  Ginger  Anise / Aniseed  \n",
       "1     Carom Seeds / Thyme    Refined flour  \n",
       "2              Star Anise         Semolina  \n",
       "3                Cinnamon             Sago  \n",
       "4          Green Cardamom      Fennel Seed  \n",
       "5          Brown Cardamom      palmJaggery  \n",
       "6              Asafoetida         Chillies  \n",
       "7                  Nutmeg        RiceFlour  \n",
       "8                    Mace        CornFlour  \n",
       "9                   Cumin          Coconut  \n",
       "10           Black Pepper          saffron  \n",
       "11                 Garlic         Tamarind  \n",
       "12                  Clove             Flax  \n",
       "13  Mustard seeds (small)            Poppy  \n",
       "14    Mustard seeds (big)      BlackSesame  \n",
       "15               Bay leaf      WhiteSesame  \n",
       "16             Coriander            Almond  \n",
       "17               Turmeric           Cashew  \n",
       "18              Fenugreek           Peanut  "
      ]
     },
     "execution_count": 76,
     "metadata": {},
     "output_type": "execute_result"
    }
   ],
   "source": [
    "df=pd.DataFrame(tbl)\n",
    "df.head(50)\n"
   ]
  },
  {
   "cell_type": "code",
   "execution_count": 77,
   "metadata": {},
   "outputs": [],
   "source": [
    "df.to_csv(r'labs\\DP0701EN\\indianCusine.csv',header=True)"
   ]
  },
  {
   "cell_type": "code",
   "execution_count": 78,
   "metadata": {},
   "outputs": [
    {
     "name": "stderr",
     "output_type": "stream",
     "text": [
      "/home/jupyterlab/conda/lib/python3.6/site-packages/ipykernel_launcher.py:3: DeprecationWarning: Using Nominatim with the default \"geopy/1.18.1\" `user_agent` is strongly discouraged, as it violates Nominatim's ToS https://operations.osmfoundation.org/policies/nominatim/ and may possibly cause 403 and 429 HTTP errors. Please specify a custom `user_agent` with `Nominatim(user_agent=\"my-application\")` or by overriding the default `user_agent`: `geopy.geocoders.options.default_user_agent = \"my-application\"`. In geopy 2.0 this will become an exception.\n",
      "  This is separate from the ipykernel package so we can avoid doing imports until\n"
     ]
    },
    {
     "name": "stdout",
     "output_type": "stream",
     "text": [
      "The geograpical coordinate of Avadi are 13.1254758, 80.09409.\n"
     ]
    }
   ],
   "source": [
    "address = 'Avadi, CH'\n",
    "\n",
    "geolocator = Nominatim()\n",
    "location = geolocator.geocode(address)\n",
    "latitude = location.latitude\n",
    "longitude = location.longitude\n",
    "print('The geograpical coordinate of Avadi are {}, {}.'.format(latitude, longitude))"
   ]
  },
  {
   "cell_type": "code",
   "execution_count": 81,
   "metadata": {},
   "outputs": [
    {
     "data": {
      "text/html": [
       "<div style=\"width:100%;\"><div style=\"position:relative;width:100%;height:0;padding-bottom:60%;\"><iframe src=\"data:text/html;charset=utf-8;base64,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\" style=\"position:absolute;width:100%;height:100%;left:0;top:0;border:none !important;\" allowfullscreen webkitallowfullscreen mozallowfullscreen></iframe></div></div>"
      ],
      "text/plain": [
       "<folium.folium.Map at 0x7fcfc0cb8400>"
      ]
     },
     "execution_count": 81,
     "metadata": {},
     "output_type": "execute_result"
    }
   ],
   "source": [
    "map_avadi = folium.Map(location=[latitude, longitude], zoom_start=12)\n",
    "\n",
    "# add markers to map\n",
    "for lat, lng, label in zip(Tiruvallur_Food_Chain['lat'], Tiruvallur_Food_Chain['lng'], Tiruvallur_Food_Chain['name']):\n",
    "    label = folium.Popup(label, parse_html=True)\n",
    "    folium.CircleMarker(\n",
    "        [lat, lng],\n",
    "        radius=5,\n",
    "        popup=label,\n",
    "        color='blue',\n",
    "        fill=True,\n",
    "        fill_color='#3186cc',\n",
    "        fill_opacity=0.7,\n",
    "        parse_html=False).add_to(map_avadi)  \n",
    "    \n",
    "map_avadi\n"
   ]
  },
  {
   "cell_type": "code",
   "execution_count": 80,
   "metadata": {},
   "outputs": [],
   "source": [
    "Tiruvallur_Taluk=pd.read_csv('Tiruvallur_Taluk.csv')"
   ]
  },
  {
   "cell_type": "code",
   "execution_count": 40,
   "metadata": {},
   "outputs": [
    {
     "data": {
      "text/html": [
       "<div>\n",
       "<style scoped>\n",
       "    .dataframe tbody tr th:only-of-type {\n",
       "        vertical-align: middle;\n",
       "    }\n",
       "\n",
       "    .dataframe tbody tr th {\n",
       "        vertical-align: top;\n",
       "    }\n",
       "\n",
       "    .dataframe thead th {\n",
       "        text-align: right;\n",
       "    }\n",
       "</style>\n",
       "<table border=\"1\" class=\"dataframe\">\n",
       "  <thead>\n",
       "    <tr style=\"text-align: right;\">\n",
       "      <th></th>\n",
       "      <th>TalukName</th>\n",
       "      <th>Lattitude</th>\n",
       "      <th>Longitude</th>\n",
       "    </tr>\n",
       "  </thead>\n",
       "  <tbody>\n",
       "    <tr>\n",
       "      <th>0</th>\n",
       "      <td>Amabattur</td>\n",
       "      <td>13.114317</td>\n",
       "      <td>80.148055</td>\n",
       "    </tr>\n",
       "    <tr>\n",
       "      <th>1</th>\n",
       "      <td>Gummidipundi</td>\n",
       "      <td>13.458765</td>\n",
       "      <td>80.115755</td>\n",
       "    </tr>\n",
       "    <tr>\n",
       "      <th>2</th>\n",
       "      <td>Pallipattu</td>\n",
       "      <td>13.337009</td>\n",
       "      <td>79.445073</td>\n",
       "    </tr>\n",
       "    <tr>\n",
       "      <th>3</th>\n",
       "      <td>Ponneri</td>\n",
       "      <td>13.337830</td>\n",
       "      <td>80.192901</td>\n",
       "    </tr>\n",
       "    <tr>\n",
       "      <th>4</th>\n",
       "      <td>Poonamalle</td>\n",
       "      <td>13.047261</td>\n",
       "      <td>80.094531</td>\n",
       "    </tr>\n",
       "  </tbody>\n",
       "</table>\n",
       "</div>"
      ],
      "text/plain": [
       "      TalukName  Lattitude  Longitude\n",
       "0     Amabattur  13.114317  80.148055\n",
       "1  Gummidipundi  13.458765  80.115755\n",
       "2    Pallipattu  13.337009  79.445073\n",
       "3       Ponneri  13.337830  80.192901\n",
       "4    Poonamalle  13.047261  80.094531"
      ]
     },
     "execution_count": 40,
     "metadata": {},
     "output_type": "execute_result"
    }
   ],
   "source": [
    "Tiruvallur_Taluk.head()"
   ]
  },
  {
   "cell_type": "code",
   "execution_count": 82,
   "metadata": {},
   "outputs": [
    {
     "data": {
      "text/html": [
       "<div style=\"width:100%;\"><div style=\"position:relative;width:100%;height:0;padding-bottom:60%;\"><iframe src=\"data:text/html;charset=utf-8;base64,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\" style=\"position:absolute;width:100%;height:100%;left:0;top:0;border:none !important;\" allowfullscreen webkitallowfullscreen mozallowfullscreen></iframe></div></div>"
      ],
      "text/plain": [
       "<folium.folium.Map at 0x7fcfc0dd6978>"
      ]
     },
     "execution_count": 82,
     "metadata": {},
     "output_type": "execute_result"
    }
   ],
   "source": [
    "map_Tiruvallur = folium.Map(location=[13.14376, 79.90889], zoom_start=12)\n",
    "\n",
    "# add markers to map\n",
    "for lat, lng, label in zip(Tiruvallur_Taluk['Lattitude'], Tiruvallur_Taluk['Longitude'], Tiruvallur_Taluk['TalukName']):\n",
    "    label = folium.Popup(label, parse_html=True)\n",
    "    folium.CircleMarker(\n",
    "        [lat, lng],\n",
    "        radius=5,\n",
    "        popup=label,\n",
    "        color='blue',\n",
    "        fill=True,\n",
    "        fill_color='#3186cc',\n",
    "        fill_opacity=0.7,\n",
    "        parse_html=False).add_to(map_Tiruvallur)  \n",
    "    \n",
    "map_Tiruvallur"
   ]
  },
  {
   "cell_type": "code",
   "execution_count": 98,
   "metadata": {},
   "outputs": [],
   "source": [
    "df_crop=pd.read_csv('Tiruvallur_Crops.csv')"
   ]
  },
  {
   "cell_type": "code",
   "execution_count": 99,
   "metadata": {},
   "outputs": [
    {
     "data": {
      "text/html": [
       "<div>\n",
       "<style scoped>\n",
       "    .dataframe tbody tr th:only-of-type {\n",
       "        vertical-align: middle;\n",
       "    }\n",
       "\n",
       "    .dataframe tbody tr th {\n",
       "        vertical-align: top;\n",
       "    }\n",
       "\n",
       "    .dataframe thead th {\n",
       "        text-align: right;\n",
       "    }\n",
       "</style>\n",
       "<table border=\"1\" class=\"dataframe\">\n",
       "  <thead>\n",
       "    <tr style=\"text-align: right;\">\n",
       "      <th></th>\n",
       "      <th>Crops</th>\n",
       "      <th>Production</th>\n",
       "    </tr>\n",
       "  </thead>\n",
       "  <tbody>\n",
       "    <tr>\n",
       "      <th>0</th>\n",
       "      <td>Sugarcane</td>\n",
       "      <td>817608</td>\n",
       "    </tr>\n",
       "    <tr>\n",
       "      <th>1</th>\n",
       "      <td>Groundnut</td>\n",
       "      <td>85600</td>\n",
       "    </tr>\n",
       "    <tr>\n",
       "      <th>2</th>\n",
       "      <td>Rice</td>\n",
       "      <td>398152</td>\n",
       "    </tr>\n",
       "    <tr>\n",
       "      <th>3</th>\n",
       "      <td>Liitle Millet</td>\n",
       "      <td>1752</td>\n",
       "    </tr>\n",
       "    <tr>\n",
       "      <th>4</th>\n",
       "      <td>Rye</td>\n",
       "      <td>3773</td>\n",
       "    </tr>\n",
       "    <tr>\n",
       "      <th>5</th>\n",
       "      <td>Green Gram</td>\n",
       "      <td>4013</td>\n",
       "    </tr>\n",
       "    <tr>\n",
       "      <th>6</th>\n",
       "      <td>Black Gram</td>\n",
       "      <td>1317</td>\n",
       "    </tr>\n",
       "    <tr>\n",
       "      <th>7</th>\n",
       "      <td>Chillies</td>\n",
       "      <td>1681</td>\n",
       "    </tr>\n",
       "    <tr>\n",
       "      <th>8</th>\n",
       "      <td>Turmeric</td>\n",
       "      <td>28</td>\n",
       "    </tr>\n",
       "    <tr>\n",
       "      <th>9</th>\n",
       "      <td>Tamerind</td>\n",
       "      <td>182</td>\n",
       "    </tr>\n",
       "  </tbody>\n",
       "</table>\n",
       "</div>"
      ],
      "text/plain": [
       "          Crops   Production\\n\n",
       "0     Sugarcane         817608\n",
       "1     Groundnut          85600\n",
       "2          Rice         398152\n",
       "3  Liitle Millet          1752\n",
       "4            Rye          3773\n",
       "5    Green Gram           4013\n",
       "6    Black Gram           1317\n",
       "7       Chillies          1681\n",
       "8       Turmeric            28\n",
       "9       Tamerind           182"
      ]
     },
     "execution_count": 99,
     "metadata": {},
     "output_type": "execute_result"
    }
   ],
   "source": [
    "df_crop.head(20)"
   ]
  },
  {
   "cell_type": "code",
   "execution_count": 100,
   "metadata": {},
   "outputs": [
    {
     "name": "stdout",
     "output_type": "stream",
     "text": [
      "Index(['Crops ', 'Production\\n'], dtype='object')\n"
     ]
    }
   ],
   "source": [
    "cols=df_crop.columns\n",
    "print(cols)"
   ]
  },
  {
   "cell_type": "code",
   "execution_count": 85,
   "metadata": {},
   "outputs": [],
   "source": [
    "import matplotlib.pyplot as plt\n"
   ]
  },
  {
   "cell_type": "code",
   "execution_count": 103,
   "metadata": {},
   "outputs": [],
   "source": [
    "d1=df_crop.loc[0:2,\"Production\\n\"]\n",
    "d2=df_crop.loc[0:2,\"Crops \"]"
   ]
  },
  {
   "cell_type": "code",
   "execution_count": 105,
   "metadata": {},
   "outputs": [
    {
     "data": {
      "image/png": "[encoded data removed]",
      "text/plain": [
       "<Figure size 432x288 with 1 Axes>"
      ]
     },
     "metadata": {
      "needs_background": "light"
     },
     "output_type": "display_data"
    }
   ],
   "source": [
    "y_pos = np.arange(len(d2))\n",
    "performance = d1\n",
    " \n",
    "plt.barh(y_pos, performance, align='center', alpha=0.5)\n",
    "plt.yticks(y_pos, d2)\n",
    "plt.xlabel('Production')\n",
    "plt.title('Principle Crops Production in Tiruvallur')\n",
    " \n",
    "plt.show()"
   ]
  },
  {
   "cell_type": "code",
   "execution_count": 106,
   "metadata": {},
   "outputs": [],
   "source": [
    "d1=df_crop.loc[3:9,\"Production\\n\"]\n",
    "d2=df_crop.loc[3:9,\"Crops \"]"
   ]
  },
  {
   "cell_type": "code",
   "execution_count": 108,
   "metadata": {},
   "outputs": [
    {
     "data": {
      "image/png": "[encoded data removed]",
      "text/plain": [
       "<Figure size 432x288 with 1 Axes>"
      ]
     },
     "metadata": {
      "needs_background": "light"
     },
     "output_type": "display_data"
    }
   ],
   "source": [
    "y_pos = np.arange(len(d2))\n",
    "performance = d1\n",
    " \n",
    "plt.barh(y_pos, performance, align='center', alpha=0.5)\n",
    "plt.yticks(y_pos, d2)\n",
    "plt.xlabel('Production')\n",
    "plt.title('Pulses,Cereals and Spices Production in Tiruvallur')\n",
    " \n",
    "plt.show()"
   ]
  },
  {
   "cell_type": "code",
   "execution_count": null,
   "metadata": {},
   "outputs": [],
   "source": []
  }
 ],
 "metadata": {
  "kernelspec": {
   "display_name": "Python 3",
   "language": "python",
   "name": "python3"
  },
  "language_info": {
   "codemirror_mode": {
    "name": "ipython",
    "version": 3
   },
   "file_extension": ".py",
   "mimetype": "text/x-python",
   "name": "python",
   "nbconvert_exporter": "python",
   "pygments_lexer": "ipython3",
   "version": "3.6.6"
  }
 },
 "nbformat": 4,
 "nbformat_minor": 2
}
