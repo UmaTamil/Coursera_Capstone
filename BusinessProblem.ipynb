{
 "cells": [
  {
   "cell_type": "markdown",
   "metadata": {},
   "source": [
    "Locality Intelligence for Rural Agri- Market Development\n",
    "\n",
    "Introduction/Business Problem\n",
    "To develop the rural Agri market analytics based on locality intelligence of TamilNadu ( a state of India). Agricultural is the main livelihood in India. To help the farmers to sell their products based on the demand in neighborhoods, a rural market analytics based on locality intelligence is going to be developed. Two main reasons for the woes of Indian farmers are One, they cannot decide the price of their own product as they have no direct contact with consumers. Two, they have to sell their crops to middlemen/agents due to lack of storage space.  To help the farmers to find out the market and to locate the storage place for their products, in this project I want to develop an App that connects the farmers directly to the food industry like hotels and restaurants so that the farmers can directly sell their products to the hotels and restaurants. \n",
    "\n",
    "Background\n",
    "Rural India has some specific features. In an Indian village one can see a cluster of houses with a well in the center surrounded by farming land. People from different castes and religions do not live together and they live in houses scattered all over the state. Regarding literacy and transportation, they have much difference from their urban counterparts. Hence, when we discuss rural market, India stands apart from other countries. Villages in India are spread over huge geographical area, and sometimes have very low densities of population. Agriculture is the primary source of livelihood for about 58 per cent of India’s population. Gross Value Added by agriculture, forestry and fishing is estimated at Rs 17.67 trillion (US$ 274.23 billion) in FY18.\n",
    "The Indian food industry is poised for huge growth, increasing its contribution to world food trade every year due to its immense potential for value addition, particularly within the food processing industry. The Indian food and grocery market is the world’s sixth largest, with retail contributing 70 per cent of the sales. The Indian food processing industry accounts for 32 per cent of the country’s total food market, one of the largest industries in India and is ranked fifth in terms of production, consumption, export and expected growth. It contributes around 8.80 and 8.39 per cent of Gross Value Added (GVA) in Manufacturing and Agriculture respectively, 13 per cent of India’s exports and six per cent of total industrial investment. About 68% of the market remains untouched due to inaccessibility of sustainable development such as transportation, electrification etc. It makes the allocation of products and their ready accessibility challenging. In fact, sales in rural India are inclined more by product availability than by advertisement. \n",
    "\n"
   ]
  },
  {
   "cell_type": "code",
   "execution_count": null,
   "metadata": {},
   "outputs": [],
   "source": []
  }
 ],
 "metadata": {
  "kernelspec": {
   "display_name": "Python 3",
   "language": "python",
   "name": "python3"
  },
  "language_info": {
   "codemirror_mode": {
    "name": "ipython",
    "version": 3
   },
   "file_extension": ".py",
   "mimetype": "text/x-python",
   "name": "python",
   "nbconvert_exporter": "python",
   "pygments_lexer": "ipython3",
   "version": "3.6.6"
  }
 },
 "nbformat": 4,
 "nbformat_minor": 2
}
