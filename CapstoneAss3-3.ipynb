{
 "cells": [
  {
   "cell_type": "code",
   "execution_count": 2,
   "metadata": {},
   "outputs": [
    {
     "name": "stdout",
     "output_type": "stream",
     "text": [
      "Solving environment: done\n",
      "\n",
      "# All requested packages already installed.\n",
      "\n"
     ]
    }
   ],
   "source": [
    "import numpy as np\n",
    "import pandas as pd\n",
    "import json\n",
    "!conda install -c conda-forge geopy --yes # uncomment this line if you haven't completed the Foursquare API lab\n",
    "from geopy.geocoders import Nominatim \n",
    "import requests # library to handle requests\n",
    "from pandas.io.json import json_normalize # tranform JSON file into a pandas dataframe\n",
    "import matplotlib.cm as cm\n",
    "import matplotlib.colors as colors\n",
    "\n",
    "# import k-means from clustering stage\n",
    "from sklearn.cluster import KMeans\n",
    "import folium # map rendering library\n",
    "from bs4 import BeautifulSoup as bs\n",
    "import lxml\n",
    "import requests"
   ]
  },
  {
   "cell_type": "code",
   "execution_count": 7,
   "metadata": {},
   "outputs": [],
   "source": [
    "wikipedia_link='https://en.wikipedia.org/wiki/List_of_postal_codes_of_Canada:_M'\n",
    "Toronta_page=requests.get(wikipedia_link)#hint: requests.get()\n",
    "page=Toronta_page.text\n"
   ]
  },
  {
   "cell_type": "code",
   "execution_count": 8,
   "metadata": {},
   "outputs": [],
   "source": [
    "soup=bs(page,'lxml')\n",
    "tabl_tor=soup.find('div',class_=\"mw-parser-output\").table\n",
    "temp=[] \n",
    "i=0\n",
    "for tbl_head in tabl_tor.find_all('th'):\n",
    "    tt=tbl_head.text\n",
    "    temp.append(tt)\n",
    "temp[-1] = temp[-1].strip()\n",
    "t_head=tuple(temp)\n",
    "i=0\n",
    "data=[]\n",
    "txt=[]\n",
    "for j in tabl_tor.find_all('td'):  \n",
    "    tc=j.text\n",
    "    data.append(tc)\n",
    "    data[-1] = data[-1].strip()\n",
    "    r1=[]\n",
    "r2=[]\n",
    "r3=[]\n",
    "i=0\n",
    "j=1\n",
    "k=2\n",
    "l=len(data)\n",
    "for i in range(0,l,3):\n",
    "    r1.append(data[i])\n",
    "for j in range(1,l,3):\n",
    "    r2.append(data[j])\n",
    "for k in range(2,l,3):\n",
    "    r3.append(data[k])\n",
    "tbl={t_head[0]:r1,t_head[1]:r2,t_head[2]:r3}\n",
    "df=pd.DataFrame(tbl)\n"
   ]
  },
  {
   "cell_type": "code",
   "execution_count": 9,
   "metadata": {},
   "outputs": [
    {
     "name": "stderr",
     "output_type": "stream",
     "text": [
      "/home/jupyterlab/conda/lib/python3.6/site-packages/IPython/core/interactiveshell.py:3267: SettingWithCopyWarning: \n",
      "A value is trying to be set on a copy of a slice from a DataFrame\n",
      "\n",
      "See the caveats in the documentation: http://pandas.pydata.org/pandas-docs/stable/indexing.html#indexing-view-versus-copy\n",
      "  exec(code_obj, self.user_global_ns, self.user_ns)\n"
     ]
    }
   ],
   "source": [
    "df1=df[df.Borough != 'Not assigned']\n",
    "df1.reset_index(drop=True, inplace=True)\n",
    "L=len(df1)\n",
    "for i in range(0,L):\n",
    "    if ((df1.Neighbourhood[i]) == 'Not assigned'):\n",
    "        df1.Neighbourhood[i]=df1.Borough[i]\n",
    "df2=df1.groupby(['Postcode','Borough']).Neighbourhood.unique().reset_index()\n"
   ]
  },
  {
   "cell_type": "code",
   "execution_count": 10,
   "metadata": {},
   "outputs": [
    {
     "name": "stdout",
     "output_type": "stream",
     "text": [
      "Data downloaded!\n"
     ]
    }
   ],
   "source": [
    "!wget -q -O 'Geospatial_data.csv' https://cocl.us/Geospatial_data\n",
    "print('Data downloaded!')"
   ]
  },
  {
   "cell_type": "code",
   "execution_count": 13,
   "metadata": {},
   "outputs": [
    {
     "data": {
      "text/html": [
       "<div>\n",
       "<style scoped>\n",
       "    .dataframe tbody tr th:only-of-type {\n",
       "        vertical-align: middle;\n",
       "    }\n",
       "\n",
       "    .dataframe tbody tr th {\n",
       "        vertical-align: top;\n",
       "    }\n",
       "\n",
       "    .dataframe thead th {\n",
       "        text-align: right;\n",
       "    }\n",
       "</style>\n",
       "<table border=\"1\" class=\"dataframe\">\n",
       "  <thead>\n",
       "    <tr style=\"text-align: right;\">\n",
       "      <th></th>\n",
       "      <th>Postal Code</th>\n",
       "      <th>Latitude</th>\n",
       "      <th>Longitude</th>\n",
       "    </tr>\n",
       "  </thead>\n",
       "  <tbody>\n",
       "    <tr>\n",
       "      <th>0</th>\n",
       "      <td>M1B</td>\n",
       "      <td>43.806686</td>\n",
       "      <td>-79.194353</td>\n",
       "    </tr>\n",
       "    <tr>\n",
       "      <th>1</th>\n",
       "      <td>M1C</td>\n",
       "      <td>43.784535</td>\n",
       "      <td>-79.160497</td>\n",
       "    </tr>\n",
       "    <tr>\n",
       "      <th>2</th>\n",
       "      <td>M1E</td>\n",
       "      <td>43.763573</td>\n",
       "      <td>-79.188711</td>\n",
       "    </tr>\n",
       "    <tr>\n",
       "      <th>3</th>\n",
       "      <td>M1G</td>\n",
       "      <td>43.770992</td>\n",
       "      <td>-79.216917</td>\n",
       "    </tr>\n",
       "    <tr>\n",
       "      <th>4</th>\n",
       "      <td>M1H</td>\n",
       "      <td>43.773136</td>\n",
       "      <td>-79.239476</td>\n",
       "    </tr>\n",
       "  </tbody>\n",
       "</table>\n",
       "</div>"
      ],
      "text/plain": [
       "  Postal Code   Latitude  Longitude\n",
       "0         M1B  43.806686 -79.194353\n",
       "1         M1C  43.784535 -79.160497\n",
       "2         M1E  43.763573 -79.188711\n",
       "3         M1G  43.770992 -79.216917\n",
       "4         M1H  43.773136 -79.239476"
      ]
     },
     "execution_count": 13,
     "metadata": {},
     "output_type": "execute_result"
    }
   ],
   "source": [
    "Geo_data= pd.read_csv('Geospatial_data.csv')\n",
    "Geo_data.head()"
   ]
  },
  {
   "cell_type": "code",
   "execution_count": 14,
   "metadata": {},
   "outputs": [
    {
     "data": {
      "text/html": [
       "<div>\n",
       "<style scoped>\n",
       "    .dataframe tbody tr th:only-of-type {\n",
       "        vertical-align: middle;\n",
       "    }\n",
       "\n",
       "    .dataframe tbody tr th {\n",
       "        vertical-align: top;\n",
       "    }\n",
       "\n",
       "    .dataframe thead th {\n",
       "        text-align: right;\n",
       "    }\n",
       "</style>\n",
       "<table border=\"1\" class=\"dataframe\">\n",
       "  <thead>\n",
       "    <tr style=\"text-align: right;\">\n",
       "      <th></th>\n",
       "      <th>Postcode</th>\n",
       "      <th>Latitude</th>\n",
       "      <th>Longitude</th>\n",
       "    </tr>\n",
       "  </thead>\n",
       "  <tbody>\n",
       "    <tr>\n",
       "      <th>0</th>\n",
       "      <td>M1B</td>\n",
       "      <td>43.806686</td>\n",
       "      <td>-79.194353</td>\n",
       "    </tr>\n",
       "    <tr>\n",
       "      <th>1</th>\n",
       "      <td>M1C</td>\n",
       "      <td>43.784535</td>\n",
       "      <td>-79.160497</td>\n",
       "    </tr>\n",
       "    <tr>\n",
       "      <th>2</th>\n",
       "      <td>M1E</td>\n",
       "      <td>43.763573</td>\n",
       "      <td>-79.188711</td>\n",
       "    </tr>\n",
       "    <tr>\n",
       "      <th>3</th>\n",
       "      <td>M1G</td>\n",
       "      <td>43.770992</td>\n",
       "      <td>-79.216917</td>\n",
       "    </tr>\n",
       "    <tr>\n",
       "      <th>4</th>\n",
       "      <td>M1H</td>\n",
       "      <td>43.773136</td>\n",
       "      <td>-79.239476</td>\n",
       "    </tr>\n",
       "  </tbody>\n",
       "</table>\n",
       "</div>"
      ],
      "text/plain": [
       "  Postcode   Latitude  Longitude\n",
       "0      M1B  43.806686 -79.194353\n",
       "1      M1C  43.784535 -79.160497\n",
       "2      M1E  43.763573 -79.188711\n",
       "3      M1G  43.770992 -79.216917\n",
       "4      M1H  43.773136 -79.239476"
      ]
     },
     "execution_count": 14,
     "metadata": {},
     "output_type": "execute_result"
    }
   ],
   "source": [
    "Geo_data.rename(columns={'Postal Code': 'Postcode'}, inplace=True)\n",
    "Geo_data.head()"
   ]
  },
  {
   "cell_type": "code",
   "execution_count": 16,
   "metadata": {},
   "outputs": [
    {
     "data": {
      "text/html": [
       "<div>\n",
       "<style scoped>\n",
       "    .dataframe tbody tr th:only-of-type {\n",
       "        vertical-align: middle;\n",
       "    }\n",
       "\n",
       "    .dataframe tbody tr th {\n",
       "        vertical-align: top;\n",
       "    }\n",
       "\n",
       "    .dataframe thead th {\n",
       "        text-align: right;\n",
       "    }\n",
       "</style>\n",
       "<table border=\"1\" class=\"dataframe\">\n",
       "  <thead>\n",
       "    <tr style=\"text-align: right;\">\n",
       "      <th></th>\n",
       "      <th>Postcode</th>\n",
       "      <th>Borough</th>\n",
       "      <th>Neighbourhood</th>\n",
       "      <th>Latitude</th>\n",
       "      <th>Longitude</th>\n",
       "    </tr>\n",
       "  </thead>\n",
       "  <tbody>\n",
       "    <tr>\n",
       "      <th>0</th>\n",
       "      <td>M1B</td>\n",
       "      <td>Scarborough</td>\n",
       "      <td>[Rouge, Malvern]</td>\n",
       "      <td>43.806686</td>\n",
       "      <td>-79.194353</td>\n",
       "    </tr>\n",
       "    <tr>\n",
       "      <th>1</th>\n",
       "      <td>M1C</td>\n",
       "      <td>Scarborough</td>\n",
       "      <td>[Highland Creek, Rouge Hill, Port Union]</td>\n",
       "      <td>43.784535</td>\n",
       "      <td>-79.160497</td>\n",
       "    </tr>\n",
       "    <tr>\n",
       "      <th>2</th>\n",
       "      <td>M1E</td>\n",
       "      <td>Scarborough</td>\n",
       "      <td>[Guildwood, Morningside, West Hill]</td>\n",
       "      <td>43.763573</td>\n",
       "      <td>-79.188711</td>\n",
       "    </tr>\n",
       "    <tr>\n",
       "      <th>3</th>\n",
       "      <td>M1G</td>\n",
       "      <td>Scarborough</td>\n",
       "      <td>[Woburn]</td>\n",
       "      <td>43.770992</td>\n",
       "      <td>-79.216917</td>\n",
       "    </tr>\n",
       "    <tr>\n",
       "      <th>4</th>\n",
       "      <td>M1H</td>\n",
       "      <td>Scarborough</td>\n",
       "      <td>[Cedarbrae]</td>\n",
       "      <td>43.773136</td>\n",
       "      <td>-79.239476</td>\n",
       "    </tr>\n",
       "  </tbody>\n",
       "</table>\n",
       "</div>"
      ],
      "text/plain": [
       "  Postcode      Borough                             Neighbourhood   Latitude  \\\n",
       "0      M1B  Scarborough                          [Rouge, Malvern]  43.806686   \n",
       "1      M1C  Scarborough  [Highland Creek, Rouge Hill, Port Union]  43.784535   \n",
       "2      M1E  Scarborough       [Guildwood, Morningside, West Hill]  43.763573   \n",
       "3      M1G  Scarborough                                  [Woburn]  43.770992   \n",
       "4      M1H  Scarborough                               [Cedarbrae]  43.773136   \n",
       "\n",
       "   Longitude  \n",
       "0 -79.194353  \n",
       "1 -79.160497  \n",
       "2 -79.188711  \n",
       "3 -79.216917  \n",
       "4 -79.239476  "
      ]
     },
     "execution_count": 16,
     "metadata": {},
     "output_type": "execute_result"
    }
   ],
   "source": [
    "neighborhoods=pd.merge(df2, Geo_data, on='Postcode', how='inner')\n",
    "neighborhoods.head()"
   ]
  },
  {
   "cell_type": "code",
   "execution_count": 19,
   "metadata": {},
   "outputs": [
    {
     "name": "stdout",
     "output_type": "stream",
     "text": [
      "The dataframe has 11 boroughs and 103 neighborhoods.\n"
     ]
    }
   ],
   "source": [
    "print('The dataframe has {} boroughs and {} neighborhoods.'.format(\n",
    "        len(neighborhoods['Borough'].unique()),\n",
    "        neighborhoods.shape[0]\n",
    "    )\n",
    ")"
   ]
  },
  {
   "cell_type": "code",
   "execution_count": 23,
   "metadata": {},
   "outputs": [
    {
     "name": "stdout",
     "output_type": "stream",
     "text": [
      "Index(['Postcode', 'Borough', 'Neighbourhood', 'Latitude', 'Longitude'], dtype='object')\n"
     ]
    }
   ],
   "source": [
    "col=neighborhoods.columns\n",
    "print(col)"
   ]
  },
  {
   "cell_type": "code",
   "execution_count": 20,
   "metadata": {},
   "outputs": [
    {
     "name": "stdout",
     "output_type": "stream",
     "text": [
      "The geograpical coordinate of Toronto City are 43.653963, -79.387207.\n"
     ]
    }
   ],
   "source": [
    "address = 'Toronto'\n",
    "\n",
    "geolocator = Nominatim()\n",
    "location = geolocator.geocode(address)\n",
    "latitude = location.latitude\n",
    "longitude = location.longitude\n",
    "print('The geograpical coordinate of Toronto City are {}, {}.'.format(latitude, longitude))"
   ]
  },
  {
   "cell_type": "code",
   "execution_count": 25,
   "metadata": {},
   "outputs": [
    {
     "data": {
      "text/html": [
       "<div style=\"width:100%;\"><div style=\"position:relative;width:100%;height:0;padding-bottom:60%;\"><iframe src=\"data:text/html;charset=utf-8;base64,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\" style=\"position:absolute;width:100%;height:100%;left:0;top:0;border:none !important;\" allowfullscreen webkitallowfullscreen mozallowfullscreen></iframe></div></div>"
      ],
      "text/plain": [
       "<folium.folium.Map at 0x7f3433c83ef0>"
      ]
     },
     "execution_count": 25,
     "metadata": {},
     "output_type": "execute_result"
    }
   ],
   "source": [
    "map_toronto = folium.Map(location=[latitude, longitude], zoom_start=10)\n",
    "for lat, lng, borough, neighborhood in zip(neighborhoods['Latitude'], neighborhoods['Longitude'], neighborhoods['Borough'], neighborhoods['Neighbourhood']):\n",
    "    label = '{}, {}'.format(neighborhood, borough)\n",
    "    label = folium.Popup(label, parse_html=True)\n",
    "    folium.CircleMarker(\n",
    "        [lat, lng],\n",
    "        radius=5,\n",
    "        popup=label,\n",
    "        color='blue',\n",
    "        fill=True,\n",
    "        fill_color='#3186cc',\n",
    "        fill_opacity=0.7,\n",
    "        parse_html=False).add_to(map_toronto)  \n",
    "    \n",
    "map_toronto"
   ]
  },
  {
   "cell_type": "code",
   "execution_count": 32,
   "metadata": {},
   "outputs": [
    {
     "data": {
      "text/html": [
       "<div>\n",
       "<style scoped>\n",
       "    .dataframe tbody tr th:only-of-type {\n",
       "        vertical-align: middle;\n",
       "    }\n",
       "\n",
       "    .dataframe tbody tr th {\n",
       "        vertical-align: top;\n",
       "    }\n",
       "\n",
       "    .dataframe thead th {\n",
       "        text-align: right;\n",
       "    }\n",
       "</style>\n",
       "<table border=\"1\" class=\"dataframe\">\n",
       "  <thead>\n",
       "    <tr style=\"text-align: right;\">\n",
       "      <th></th>\n",
       "      <th>Postcode</th>\n",
       "      <th>Borough</th>\n",
       "      <th>Neighbourhood</th>\n",
       "      <th>Latitude</th>\n",
       "      <th>Longitude</th>\n",
       "    </tr>\n",
       "  </thead>\n",
       "  <tbody>\n",
       "    <tr>\n",
       "      <th>0</th>\n",
       "      <td>M1B</td>\n",
       "      <td>Scarborough</td>\n",
       "      <td>[Rouge, Malvern]</td>\n",
       "      <td>43.806686</td>\n",
       "      <td>-79.194353</td>\n",
       "    </tr>\n",
       "    <tr>\n",
       "      <th>1</th>\n",
       "      <td>M1C</td>\n",
       "      <td>Scarborough</td>\n",
       "      <td>[Highland Creek, Rouge Hill, Port Union]</td>\n",
       "      <td>43.784535</td>\n",
       "      <td>-79.160497</td>\n",
       "    </tr>\n",
       "    <tr>\n",
       "      <th>2</th>\n",
       "      <td>M1E</td>\n",
       "      <td>Scarborough</td>\n",
       "      <td>[Guildwood, Morningside, West Hill]</td>\n",
       "      <td>43.763573</td>\n",
       "      <td>-79.188711</td>\n",
       "    </tr>\n",
       "    <tr>\n",
       "      <th>3</th>\n",
       "      <td>M1G</td>\n",
       "      <td>Scarborough</td>\n",
       "      <td>[Woburn]</td>\n",
       "      <td>43.770992</td>\n",
       "      <td>-79.216917</td>\n",
       "    </tr>\n",
       "    <tr>\n",
       "      <th>4</th>\n",
       "      <td>M1H</td>\n",
       "      <td>Scarborough</td>\n",
       "      <td>[Cedarbrae]</td>\n",
       "      <td>43.773136</td>\n",
       "      <td>-79.239476</td>\n",
       "    </tr>\n",
       "  </tbody>\n",
       "</table>\n",
       "</div>"
      ],
      "text/plain": [
       "  Postcode      Borough                             Neighbourhood   Latitude  \\\n",
       "0      M1B  Scarborough                          [Rouge, Malvern]  43.806686   \n",
       "1      M1C  Scarborough  [Highland Creek, Rouge Hill, Port Union]  43.784535   \n",
       "2      M1E  Scarborough       [Guildwood, Morningside, West Hill]  43.763573   \n",
       "3      M1G  Scarborough                                  [Woburn]  43.770992   \n",
       "4      M1H  Scarborough                               [Cedarbrae]  43.773136   \n",
       "\n",
       "   Longitude  \n",
       "0 -79.194353  \n",
       "1 -79.160497  \n",
       "2 -79.188711  \n",
       "3 -79.216917  \n",
       "4 -79.239476  "
      ]
     },
     "execution_count": 32,
     "metadata": {},
     "output_type": "execute_result"
    }
   ],
   "source": [
    "Scarborogh_data = neighborhoods[neighborhoods['Borough'] == 'Scarborough'].reset_index(drop=True)\n",
    "Scarborogh_data.head()"
   ]
  },
  {
   "cell_type": "code",
   "execution_count": 33,
   "metadata": {},
   "outputs": [
    {
     "name": "stdout",
     "output_type": "stream",
     "text": [
      "The geograpical coordinate of Scarborough are 43.773077, -79.257774.\n"
     ]
    }
   ],
   "source": [
    "address = 'Scarborough, TO'\n",
    "\n",
    "geolocator = Nominatim()\n",
    "location = geolocator.geocode(address)\n",
    "latitude = location.latitude\n",
    "longitude = location.longitude\n",
    "print('The geograpical coordinate of Scarborough are {}, {}.'.format(latitude, longitude))"
   ]
  },
  {
   "cell_type": "code",
   "execution_count": 29,
   "metadata": {},
   "outputs": [
    {
     "name": "stdout",
     "output_type": "stream",
     "text": [
      "Your credentails:\n",
      "CLIENT_ID: 30EXXJY2HBSDPTTTYZFRPZAILSBAMOO0P4KGLCQWEZ3I1I4I\n",
      "CLIENT_SECRET:ZRKNTYYRQSUX0Q4DDTYBRYYPUMOMD3VVSQYWZT2YELF3SNRX\n"
     ]
    }
   ],
   "source": [
    "CLIENT_ID = '30EXXJY2HBSDPTTTYZFRPZAILSBAMOO0P4KGLCQWEZ3I1I4I' # your Foursquare ID\n",
    "CLIENT_SECRET = 'ZRKNTYYRQSUX0Q4DDTYBRYYPUMOMD3VVSQYWZT2YELF3SNRX' # your Foursquare Secret\n",
    "VERSION = '20180605' # Foursquare API version\n",
    "\n",
    "print('Your credentails:')\n",
    "print('CLIENT_ID: ' + CLIENT_ID)\n",
    "print('CLIENT_SECRET:' + CLIENT_SECRET)"
   ]
  },
  {
   "cell_type": "code",
   "execution_count": 35,
   "metadata": {},
   "outputs": [
    {
     "name": "stdout",
     "output_type": "stream",
     "text": [
      "Latitude and longitude values of ['Rouge' 'Malvern'] are 43.806686299999996, -79.19435340000001.\n"
     ]
    }
   ],
   "source": [
    "neighborhood_latitude = Scarborogh_data.loc[0, 'Latitude'] # neighborhood latitude value\n",
    "neighborhood_longitude = Scarborogh_data.loc[0, 'Longitude'] # neighborhood longitude value\n",
    "\n",
    "neighborhood_name = Scarborogh_data.loc[0, 'Neighbourhood'] # neighborhood name\n",
    "\n",
    "print('Latitude and longitude values of {} are {}, {}.'.format(neighborhood_name, \n",
    "                                                               neighborhood_latitude, \n",
    "                                                               neighborhood_longitude))"
   ]
  },
  {
   "cell_type": "code",
   "execution_count": 43,
   "metadata": {},
   "outputs": [
    {
     "data": {
      "text/plain": [
       "array(['Highland Creek', 'Rouge Hill', 'Port Union'], dtype=object)"
      ]
     },
     "execution_count": 43,
     "metadata": {},
     "output_type": "execute_result"
    }
   ],
   "source": [
    "Scarborogh_data.loc[1, 'Neighbourhood']"
   ]
  },
  {
   "cell_type": "code",
   "execution_count": 44,
   "metadata": {},
   "outputs": [
    {
     "data": {
      "text/plain": [
       "'https://api.foursquare.com/v2/venues/explore?&client_id=30EXXJY2HBSDPTTTYZFRPZAILSBAMOO0P4KGLCQWEZ3I1I4I&client_secret=ZRKNTYYRQSUX0Q4DDTYBRYYPUMOMD3VVSQYWZT2YELF3SNRX&v=20180605&ll=43.806686299999996,-79.19435340000001&radius=500&limit=100'"
      ]
     },
     "execution_count": 44,
     "metadata": {},
     "output_type": "execute_result"
    }
   ],
   "source": [
    "LIMIT = 100\n",
    "radius = 500\n",
    "url = 'https://api.foursquare.com/v2/venues/explore?&client_id={}&client_secret={}&v={}&ll={},{}&radius={}&limit={}'.format(\n",
    "    CLIENT_ID, \n",
    "    CLIENT_SECRET, \n",
    "    VERSION, \n",
    "    neighborhood_latitude, \n",
    "    neighborhood_longitude, \n",
    "    radius, \n",
    "    LIMIT)\n",
    "url"
   ]
  },
  {
   "cell_type": "code",
   "execution_count": 45,
   "metadata": {},
   "outputs": [
    {
     "data": {
      "text/plain": [
       "{'meta': {'code': 200, 'requestId': '5c121fea1ed2195d6ae58c05'},\n",
       " 'response': {'warning': {'text': \"There aren't a lot of results near you. Try something more general, reset your filters, or expand the search area.\"},\n",
       "  'headerLocation': 'Malvern',\n",
       "  'headerFullLocation': 'Malvern, Toronto',\n",
       "  'headerLocationGranularity': 'neighborhood',\n",
       "  'totalResults': 1,\n",
       "  'suggestedBounds': {'ne': {'lat': 43.8111863045, 'lng': -79.18812958073042},\n",
       "   'sw': {'lat': 43.80218629549999, 'lng': -79.2005772192696}},\n",
       "  'groups': [{'type': 'Recommended Places',\n",
       "    'name': 'recommended',\n",
       "    'items': [{'reasons': {'count': 0,\n",
       "       'items': [{'summary': 'This spot is popular',\n",
       "         'type': 'general',\n",
       "         'reasonName': 'globalInteractionReason'}]},\n",
       "      'venue': {'id': '4bb6b9446edc76b0d771311c',\n",
       "       'name': \"Wendy's\",\n",
       "       'location': {'crossStreet': 'Morningside & Sheppard',\n",
       "        'lat': 43.80744841934756,\n",
       "        'lng': -79.19905558052072,\n",
       "        'labeledLatLngs': [{'label': 'display',\n",
       "          'lat': 43.80744841934756,\n",
       "          'lng': -79.19905558052072}],\n",
       "        'distance': 387,\n",
       "        'cc': 'CA',\n",
       "        'city': 'Toronto',\n",
       "        'state': 'ON',\n",
       "        'country': 'Canada',\n",
       "        'formattedAddress': ['Toronto ON', 'Canada']},\n",
       "       'categories': [{'id': '4bf58dd8d48988d16e941735',\n",
       "         'name': 'Fast Food Restaurant',\n",
       "         'pluralName': 'Fast Food Restaurants',\n",
       "         'shortName': 'Fast Food',\n",
       "         'icon': {'prefix': 'https://ss3.4sqi.net/img/categories_v2/food/fastfood_',\n",
       "          'suffix': '.png'},\n",
       "         'primary': True}],\n",
       "       'photos': {'count': 0, 'groups': []}},\n",
       "      'referralId': 'e-0-4bb6b9446edc76b0d771311c-0'}]}]}}"
      ]
     },
     "execution_count": 45,
     "metadata": {},
     "output_type": "execute_result"
    }
   ],
   "source": [
    "results = requests.get(url).json()\n",
    "results"
   ]
  },
  {
   "cell_type": "code",
   "execution_count": 46,
   "metadata": {},
   "outputs": [],
   "source": [
    "# function that extracts the category of the venue\n",
    "def get_category_type(row):\n",
    "    try:\n",
    "        categories_list = row['categories']\n",
    "    except:\n",
    "        categories_list = row['venue.categories']\n",
    "        \n",
    "    if len(categories_list) == 0:\n",
    "        return None\n",
    "    else:\n",
    "        return categories_list[0]['name']"
   ]
  },
  {
   "cell_type": "code",
   "execution_count": 47,
   "metadata": {},
   "outputs": [
    {
     "data": {
      "text/html": [
       "<div>\n",
       "<style scoped>\n",
       "    .dataframe tbody tr th:only-of-type {\n",
       "        vertical-align: middle;\n",
       "    }\n",
       "\n",
       "    .dataframe tbody tr th {\n",
       "        vertical-align: top;\n",
       "    }\n",
       "\n",
       "    .dataframe thead th {\n",
       "        text-align: right;\n",
       "    }\n",
       "</style>\n",
       "<table border=\"1\" class=\"dataframe\">\n",
       "  <thead>\n",
       "    <tr style=\"text-align: right;\">\n",
       "      <th></th>\n",
       "      <th>name</th>\n",
       "      <th>categories</th>\n",
       "      <th>lat</th>\n",
       "      <th>lng</th>\n",
       "    </tr>\n",
       "  </thead>\n",
       "  <tbody>\n",
       "    <tr>\n",
       "      <th>0</th>\n",
       "      <td>Wendy's</td>\n",
       "      <td>Fast Food Restaurant</td>\n",
       "      <td>43.807448</td>\n",
       "      <td>-79.199056</td>\n",
       "    </tr>\n",
       "  </tbody>\n",
       "</table>\n",
       "</div>"
      ],
      "text/plain": [
       "      name            categories        lat        lng\n",
       "0  Wendy's  Fast Food Restaurant  43.807448 -79.199056"
      ]
     },
     "execution_count": 47,
     "metadata": {},
     "output_type": "execute_result"
    }
   ],
   "source": [
    "venues = results['response']['groups'][0]['items']\n",
    "    \n",
    "nearby_venues = json_normalize(venues) # flatten JSON\n",
    "\n",
    "# filter columns\n",
    "filtered_columns = ['venue.name', 'venue.categories', 'venue.location.lat', 'venue.location.lng']\n",
    "nearby_venues =nearby_venues.loc[:, filtered_columns]\n",
    "\n",
    "# filter the category for each row\n",
    "nearby_venues['venue.categories'] = nearby_venues.apply(get_category_type, axis=1)\n",
    "\n",
    "# clean columns\n",
    "nearby_venues.columns = [col.split(\".\")[-1] for col in nearby_venues.columns]\n",
    "\n",
    "nearby_venues.head()"
   ]
  },
  {
   "cell_type": "code",
   "execution_count": 48,
   "metadata": {},
   "outputs": [
    {
     "name": "stdout",
     "output_type": "stream",
     "text": [
      "1 venues were returned by Foursquare.\n"
     ]
    }
   ],
   "source": [
    "print('{} venues were returned by Foursquare.'.format(nearby_venues.shape[0]))"
   ]
  },
  {
   "cell_type": "code",
   "execution_count": null,
   "metadata": {
    "collapsed": true
   },
   "outputs": [],
   "source": [
    "def getNearbyVenues(names, latitudes, longitudes, radius=500):\n",
    "    \n",
    "    venues_list=[]\n",
    "    for name, lat, lng in zip(names, latitudes, longitudes):\n",
    "        print(name)\n",
    "            \n",
    "        # create the API request URL\n",
    "        url = 'https://api.foursquare.com/v2/venues/explore?&client_id={}&client_secret={}&v={}&ll={},{}&radius={}&limit={}'.format(\n",
    "            CLIENT_ID, \n",
    "            CLIENT_SECRET, \n",
    "            VERSION, \n",
    "            lat, \n",
    "            lng, \n",
    "            radius, \n",
    "            LIMIT)\n",
    "            \n",
    "        # make the GET request\n",
    "        results = requests.get(url).json()[\"response\"]['groups'][0]['items']\n",
    "        \n",
    "        # return only relevant information for each nearby venue\n",
    "        venues_list.append([(\n",
    "            name, \n",
    "            lat, \n",
    "            lng, \n",
    "            v['venue']['name'], \n",
    "            v['venue']['location']['lat'], \n",
    "            v['venue']['location']['lng'],  \n",
    "            v['venue']['categories'][0]['name']) for v in results])\n",
    "\n",
    "    nearby_venues = pd.DataFrame([item for venue_list in venues_list for item in venue_list])\n",
    "    nearby_venues.columns = ['Neighborhood', \n",
    "                  'Neighborhood Latitude', \n",
    "                  'Neighborhood Longitude', \n",
    "                  'Venue', \n",
    "                  'Venue Latitude', \n",
    "                  'Venue Longitude', \n",
    "                  'Venue Category']\n",
    "    \n",
    "    return(nearby_venues)"
   ]
  },
  {
   "cell_type": "code",
   "execution_count": 49,
   "metadata": {},
   "outputs": [
    {
     "ename": "NameError",
     "evalue": "name 'Scarborogh_venues' is not defined",
     "output_type": "error",
     "traceback": [
      "\u001b[0;31m---------------------------------------------------------------------------\u001b[0m",
      "\u001b[0;31mNameError\u001b[0m                                 Traceback (most recent call last)",
      "\u001b[0;32m<ipython-input-49-1c8e662d084a>\u001b[0m in \u001b[0;36m<module>\u001b[0;34m\u001b[0m\n\u001b[1;32m      1\u001b[0m \u001b[0;31m# one hot encoding\u001b[0m\u001b[0;34m\u001b[0m\u001b[0;34m\u001b[0m\u001b[0m\n\u001b[0;32m----> 2\u001b[0;31m \u001b[0mScarborogh_onehot\u001b[0m \u001b[0;34m=\u001b[0m \u001b[0mpd\u001b[0m\u001b[0;34m.\u001b[0m\u001b[0mget_dummies\u001b[0m\u001b[0;34m(\u001b[0m\u001b[0mScarborogh_venues\u001b[0m\u001b[0;34m[\u001b[0m\u001b[0;34m[\u001b[0m\u001b[0;34m'Venue Category'\u001b[0m\u001b[0;34m]\u001b[0m\u001b[0;34m]\u001b[0m\u001b[0;34m,\u001b[0m \u001b[0mprefix\u001b[0m\u001b[0;34m=\u001b[0m\u001b[0;34m\"\"\u001b[0m\u001b[0;34m,\u001b[0m \u001b[0mprefix_sep\u001b[0m\u001b[0;34m=\u001b[0m\u001b[0;34m\"\"\u001b[0m\u001b[0;34m)\u001b[0m\u001b[0;34m\u001b[0m\u001b[0m\n\u001b[0m\u001b[1;32m      3\u001b[0m \u001b[0;34m\u001b[0m\u001b[0m\n\u001b[1;32m      4\u001b[0m \u001b[0;31m# add neighborhood column back to dataframe\u001b[0m\u001b[0;34m\u001b[0m\u001b[0;34m\u001b[0m\u001b[0m\n\u001b[1;32m      5\u001b[0m \u001b[0mScarborogh_onehot\u001b[0m\u001b[0;34m[\u001b[0m\u001b[0;34m'Neighbourhood'\u001b[0m\u001b[0;34m]\u001b[0m \u001b[0;34m=\u001b[0m \u001b[0mScarborogh_venues\u001b[0m\u001b[0;34m[\u001b[0m\u001b[0;34m'Neighbourhood'\u001b[0m\u001b[0;34m]\u001b[0m\u001b[0;34m\u001b[0m\u001b[0m\n",
      "\u001b[0;31mNameError\u001b[0m: name 'Scarborogh_venues' is not defined"
     ]
    }
   ],
   "source": [
    "# one hot encoding\n",
    "Scarborogh_onehot = pd.get_dummies(Scarborogh_venues[['Venue Category']], prefix=\"\", prefix_sep=\"\")\n",
    "\n",
    "# add neighborhood column back to dataframe\n",
    "Scarborogh_onehot['Neighbourhood'] = Scarborogh_venues['Neighbourhood'] \n",
    "\n",
    "# move neighborhood column to the first column\n",
    "fixed_columns = [Scarborogh_onehot.columns[-1]] + list(Scarborogh_onehot.columns[:-1])\n",
    "Scarborogh_onehot = Scarborogh_onehot[fixed_columns]\n",
    "\n",
    "Scarborogh_onehot.head()"
   ]
  },
  {
   "cell_type": "code",
   "execution_count": null,
   "metadata": {},
   "outputs": [],
   "source": [
    "# set number of clusters\n",
    "kclusters = 5\n",
    "\n",
    "Scarborogh_grouped_clustering = Scarborogh_grouped.drop('Neighborhood', 1)\n",
    "\n",
    "# run k-means clustering\n",
    "kmeans = KMeans(n_clusters=kclusters, random_state=0).fit(manhattan_grouped_clustering)\n",
    "\n",
    "# check cluster labels generated for each row in the dataframe\n",
    "kmeans.labels_[0:10] "
   ]
  }
 ],
 "metadata": {
  "kernelspec": {
   "display_name": "Python 3",
   "language": "python",
   "name": "python3"
  },
  "language_info": {
   "codemirror_mode": {
    "name": "ipython",
    "version": 3
   },
   "file_extension": ".py",
   "mimetype": "text/x-python",
   "name": "python",
   "nbconvert_exporter": "python",
   "pygments_lexer": "ipython3",
   "version": "3.6.6"
  }
 },
 "nbformat": 4,
 "nbformat_minor": 2
}
