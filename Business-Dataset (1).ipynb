{
 "cells": [
  {
   "cell_type": "markdown",
   "metadata": {},
   "source": [
    "Locality Intelligence for Rural Agri- Market Development\n",
    "\n",
    "Data Sets:\n",
    "From foursquare Data , Hotels and restaurants in the particular locality will be listed .  \n",
    "Types of Cuisine served from those Hotels and restaurants will be collected from https://www.zomato.com/.  \n",
    "Based on the cuisine types and ingredients like grains, pulses, spices , variety of rice  will be listed\n",
    "Production and Productivity of Principal Corps of Tamil Nadu data is available at http://www.tn.gov.in/deptst/stat.htm\n",
    "From using the corps details in the neighborhoods, the availability of the agricultural products will be made directly available to Food industry.\n"
   ]
  },
  {
   "cell_type": "code",
   "execution_count": null,
   "metadata": {},
   "outputs": [],
   "source": []
  }
 ],
 "metadata": {
  "kernelspec": {
   "display_name": "Python 3",
   "language": "python",
   "name": "python3"
  },
  "language_info": {
   "codemirror_mode": {
    "name": "ipython",
    "version": 3
   },
   "file_extension": ".py",
   "mimetype": "text/x-python",
   "name": "python",
   "nbconvert_exporter": "python",
   "pygments_lexer": "ipython3",
   "version": "3.6.6"
  }
 },
 "nbformat": 4,
 "nbformat_minor": 2
}
